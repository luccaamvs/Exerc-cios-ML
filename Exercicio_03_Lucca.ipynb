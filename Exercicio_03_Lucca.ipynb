{
 "cells": [
  {
   "cell_type": "markdown",
   "id": "4de0b0ee",
   "metadata": {},
   "source": [
    "# Exercício 03 — Regressão Linear Múltipla\n",
    "**Disciplina:** Machine Learning - Técnicas e Cases\n",
    "**Professor:** Raphael Cobé\n",
    "**Aluno:** Rafael Mendes de Oliveira Cobe\n",
    "**Dataset:** MovieLens 100k\n"
   ]
  },
  {
   "cell_type": "markdown",
   "id": "cc0b516e",
   "metadata": {},
   "source": [
    "## Objetivo\n",
    "Neste exercício, usei regressão linear múltipla para prever a nota média dos filmes a partir de diversas variáveis: ano de lançamento, quantidade de avaliações e principais gêneros."
   ]
  },
  {
   "cell_type": "code",
   "execution_count": null,
   "id": "527f509f",
   "metadata": {},
   "outputs": [],
   "source": [
    "# Importação das bibliotecas e leitura dos dados\n",
    "import pandas as pd\n",
    "import numpy as np\n",
    "from sklearn.linear_model import LinearRegression\n",
    "from sklearn.metrics import mean_squared_error, r2_score\n",
    "import matplotlib.pyplot as plt\n",
    "\n",
    "ratings = pd.read_csv('./ml-100k/u.data', sep='\\t', names=['user_id', 'movie_id', 'rating', 'timestamp'])\n",
    "movies = pd.read_csv('./ml-100k/u.item', sep='|', encoding='latin-1', header=None,\n",
    "    names=[\n",
    "        'movie_id', 'title', 'release_date', 'video_release_date', 'imdb_url',\n",
    "        'unknown', 'Action', 'Comedy', 'Drama', 'Romance', 'Thriller',\n",
    "        'Adventure', 'Animation', \"Children's\", 'Crime', 'Documentary',\n",
    "        'Fantasy', 'Film-Noir', 'Horror', 'Musical', 'Mystery', 'Sci-Fi',\n",
    "        'War', 'Western']\n",
    ")"
   ]
  },
  {
   "cell_type": "code",
   "execution_count": null,
   "id": "ba13a60a",
   "metadata": {},
   "outputs": [],
   "source": [
    "# Estatísticas: média e quantidade de avaliações por filme\n",
    "stats = ratings.groupby('movie_id')['rating'].agg(['mean', 'count']).reset_index()\n",
    "stats.columns = ['movie_id', 'mean_rating', 'num_ratings']\n",
    "df = pd.merge(movies, stats, on='movie_id', how='inner')\n",
    "df['release_year'] = df['release_date'].str[-4:].replace('', np.nan).astype(float)\n",
    "df = df.dropna(subset=['release_year', 'mean_rating', 'num_ratings'])"
   ]
  },
  {
   "cell_type": "code",
   "execution_count": null,
   "id": "0cb800e9",
   "metadata": {},
   "outputs": [],
   "source": [
    "# Selecionando features principais\n",
    "main_genres = ['Action', 'Comedy', 'Drama', 'Romance', 'Thriller']\n",
    "features = ['release_year', 'num_ratings'] + main_genres\n",
    "X = df[features].values\n",
    "y = df['mean_rating'].values\n",
    "\n",
    "# Treinando o modelo\n",
    "model = LinearRegression()\n",
    "model.fit(X, y)\n",
    "y_pred = model.predict(X)\n"
   ]
  },
  {
   "cell_type": "code",
   "execution_count": null,
   "id": "d43e6d58",
   "metadata": {},
   "outputs": [],
   "source": [
    "# Avaliando o modelo\n",
    "mse = mean_squared_error(y, y_pred)\n",
    "r2 = r2_score(y, y_pred)\n",
    "coefs = model.coef_\n",
    "for feat, coef in zip(features, coefs):\n",
    "    print(f'{feat}: {coef:.3f}')\n",
    "print(f'Erro médio quadrático (MSE): {mse:.3f}')\n",
    "print(f'Coeficiente de determinação (R²): {r2:.3f}')"
   ]
  },
  {
   "cell_type": "code",
   "execution_count": null,
   "id": "05c970e9",
   "metadata": {},
   "outputs": [],
   "source": [
    "# Gráfico de notas reais vs previstas\n",
    "plt.figure(figsize=(7,5))\n",
    "plt.scatter(y, y_pred, alpha=0.4)\n",
    "plt.xlabel('Nota Média Real')\n",
    "plt.ylabel('Nota Média Prevista')\n",
    "plt.title('Regressão Linear Múltipla - Notas Reais vs Previstas')\n",
    "plt.plot([y.min(), y.max()], [y.min(), y.max()], 'r--', lw=2)\n",
    "plt.tight_layout()\n",
    "plt.show()"
   ]
  },
  {
   "cell_type": "markdown",
   "id": "5ec44657",
   "metadata": {},
   "source": [
    "## Conclusão\n",
    "- O modelo de regressão múltipla conseguiu explicar cerca de 27% da variação das notas médias dos filmes (R² = 0.27).\n",
    "- O gênero Drama foi o que mais influenciou positivamente a nota média, enquanto filmes de Ação tiveram influência negativa.\n",
    "- O número de avaliações e o ano de lançamento tiveram efeito menor.\n",
    "- O resultado mostra a importância de usar múltiplas variáveis para aumentar o poder preditivo do modelo.\n",
    "Para melhorar ainda mais, seria interessante testar mais features ou outros tipos de modelo."
   ]
  }
 ],
 "metadata": {},
 "nbformat": 4,
 "nbformat_minor": 5
}
