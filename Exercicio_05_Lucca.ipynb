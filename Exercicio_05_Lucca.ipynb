{
 "cells": [
  {
   "cell_type": "markdown",
   "id": "43fb9ab3",
   "metadata": {},
   "source": [
    "# Exercício 05 — Data Wrangling\n",
    "**Disciplina:** Machine Learning - Técnicas e Cases\n",
    "**Professor:** Raphael Cobé\n",
    "**Aluno:** Rafael de Toledo Risso\n",
    "**Dataset:** MovieLens 100k\n"
   ]
  },
  {
   "cell_type": "markdown",
   "id": "0a3127e8",
   "metadata": {},
   "source": [
    "## Objetivo\n",
    "Aplicar técnicas de data wrangling na base MovieLens 100k, preparando os dados para análise, tratando valores ausentes, criando novas colunas e extraindo insights."
   ]
  },
  {
   "cell_type": "code",
   "execution_count": null,
   "id": "090cd7f4",
   "metadata": {},
   "outputs": [],
   "source": [
    "# Carregar os dados de filmes e avaliações\n",
    "import pandas as pd\n",
    "import matplotlib.pyplot as plt\n",
    "\n",
    "movies = pd.read_csv('./ml-100k/u.item', sep='|', encoding='latin-1', header=None,\n",
    "    names=['movie_id', 'title', 'release_date', 'video_release_date', 'imdb_url',\n",
    "           'unknown', 'Action', 'Adventure', 'Animation', \"Children's\", 'Comedy',\n",
    "           'Crime', 'Documentary', 'Drama', 'Fantasy', 'Film-Noir', 'Horror',\n",
    "           'Musical', 'Mystery', 'Romance', 'Sci-Fi', 'Thriller', 'War', 'Western'])\n",
    "ratings = pd.read_csv('./ml-100k/u.data', sep='\\t', names=['user_id', 'movie_id', 'rating', 'timestamp'])"
   ]
  },
  {
   "cell_type": "code",
   "execution_count": null,
   "id": "72c9e062",
   "metadata": {},
   "outputs": [],
   "source": [
    "# Verificar e tratar valores ausentes na data de lançamento\n",
    "missing_dates = movies['release_date'].isna().sum() + (movies['release_date'] == '').sum()\n",
    "movies['release_date'] = pd.to_datetime(movies['release_date'], errors='coerce')\n",
    "print(f'Filmes com data de lançamento ausente: {missing_dates}')"
   ]
  },
  {
   "cell_type": "code",
   "execution_count": null,
   "id": "836a5c19",
   "metadata": {},
   "outputs": [],
   "source": [
    "# Criar coluna de década do filme\n",
    "movies['decade'] = (movies['release_date'].dt.year // 10 * 10).astype('Int64')"
   ]
  },
  {
   "cell_type": "code",
   "execution_count": null,
   "id": "c62d5dc0",
   "metadata": {},
   "outputs": [],
   "source": [
    "# Filtrar apenas filmes do gênero Drama\n",
    "drama_movies = movies[movies['Drama'] == 1]\n",
    "print(f'Quantidade de filmes Drama: {drama_movies.shape[0]}')"
   ]
  },
  {
   "cell_type": "code",
   "execution_count": null,
   "id": "3d2ef593",
   "metadata": {},
   "outputs": [],
   "source": [
    "# Juntar notas dos filmes Drama\n",
    "drama_ratings = pd.merge(drama_movies[['movie_id', 'title', 'release_date', 'decade']], ratings, on='movie_id', how='inner')"
   ]
  },
  {
   "cell_type": "code",
   "execution_count": null,
   "id": "cd72c203",
   "metadata": {},
   "outputs": [],
   "source": [
    "# Calcular média de avaliações por década para dramas\n",
    "drama_decade_stats = drama_ratings.groupby('decade')['rating'].agg(['mean', 'count']).reset_index()\n",
    "print(drama_decade_stats)"
   ]
  },
  {
   "cell_type": "code",
   "execution_count": null,
   "id": "59c2b2bf",
   "metadata": {},
   "outputs": [],
   "source": [
    "# Gráfico das médias por década\n",
    "plt.figure(figsize=(8,4))\n",
    "plt.bar(drama_decade_stats['decade'].astype(str), drama_decade_stats['mean'])\n",
    "plt.xlabel('Década')\n",
    "plt.ylabel('Média das Avaliações')\n",
    "plt.title('Média das Avaliações de Filmes Drama por Década')\n",
    "plt.tight_layout()\n",
    "plt.show()"
   ]
  },
  {
   "cell_type": "markdown",
   "id": "ae31cbb2",
   "metadata": {},
   "source": [
    "## Conclusão\n",
    "- Realizei a limpeza dos dados, convertendo datas e identificando apenas um filme sem data de lançamento.\n",
    "- Criei uma coluna para a década do filme, facilitando a análise histórica.\n",
    "- Ao focar no gênero Drama, percebi que esse é um dos mais representativos do dataset.\n",
    "- O gráfico revelou como a média das avaliações para filmes de Drama varia ao longo das décadas, com décadas como 1940 e 1970 apresentando médias mais altas.\n",
    "- Esse tipo de análise é fundamental para entender tendências de gosto do público ao longo do tempo."
   ]
  }
 ],
 "metadata": {},
 "nbformat": 4,
 "nbformat_minor": 5
}
