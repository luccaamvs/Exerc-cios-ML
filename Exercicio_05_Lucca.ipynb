{
 "cells": [
  {
   "cell_type": "markdown",
   "metadata": {
    "id": "39OEftc4uQts"
   },
   "source": [
    "# Exercício\n",
    "\n",
    "O conjunto de dados de notas de banco envolve a previsão da autenticidade de uma determinada nota de banco com base em uma série de medidas tiradas de uma fotografia.\n",
    "\n",
    "Trata-se de um problema de classificação binária (2 classes). O número de observações para cada classe não é equilibrado. Há 1.372 observações com 4 variáveis de entrada e 1 variável de saída. Para obter mais informações, consulte [este link](http://archive.ics.uci.edu/ml/datasets/banknote+authentication).\n"
   ]
  },
  {
   "cell_type": "markdown",
   "metadata": {
    "id": "trhraSbQulFo"
   },
   "source": [
    "## Obtendo os dados:"
   ]
  },
  {
   "cell_type": "code",
   "execution_count": 2,
   "metadata": {
    "colab": {
     "base_uri": "https://localhost:8080/"
    },
    "executionInfo": {
     "elapsed": 342,
     "status": "ok",
     "timestamp": 1750940401247,
     "user": {
      "displayName": "Laerte Nascimento",
      "userId": "15540816423355594714"
     },
     "user_tz": 180
    },
    "id": "SSoSw5KgusoD",
    "outputId": "e1a3431c-e4a3-4705-ceb8-82ebb7c033bc"
   },
   "outputs": [
    {
     "name": "stdout",
     "output_type": "stream",
     "text": [
      "Download concluído!\n"
     ]
    }
   ],
   "source": [
    "import urllib.request\n",
    "\n",
    "url = \"http://archive.ics.uci.edu/ml/machine-learning-databases/00267/data_banknote_authentication.txt\"\n",
    "filename = \"data_banknote_authentication.txt\"\n",
    "urllib.request.urlretrieve(url, filename)\n",
    "print(\"Download concluído!\")"
   ]
  },
  {
   "cell_type": "code",
   "execution_count": 3,
   "metadata": {
    "id": "AxKluXzFu0Vm"
   },
   "outputs": [],
   "source": [
    "import pandas as pd"
   ]
  },
  {
   "cell_type": "code",
   "execution_count": 4,
   "metadata": {
    "id": "EaS23iJFuvP8"
   },
   "outputs": [],
   "source": [
    "banknote_dataset = pd.read_csv(\"data_banknote_authentication.txt\", header = None)"
   ]
  },
  {
   "cell_type": "code",
   "execution_count": 5,
   "metadata": {
    "colab": {
     "base_uri": "https://localhost:8080/",
     "height": 363
    },
    "executionInfo": {
     "elapsed": 52,
     "status": "ok",
     "timestamp": 1750940407190,
     "user": {
      "displayName": "Laerte Nascimento",
      "userId": "15540816423355594714"
     },
     "user_tz": 180
    },
    "id": "SbCau2fXu9i4",
    "outputId": "91c28712-3660-4dee-fd85-4d5ab28f8fa9"
   },
   "outputs": [
    {
     "data": {
      "text/html": [
       "<div>\n",
       "<style scoped>\n",
       "    .dataframe tbody tr th:only-of-type {\n",
       "        vertical-align: middle;\n",
       "    }\n",
       "\n",
       "    .dataframe tbody tr th {\n",
       "        vertical-align: top;\n",
       "    }\n",
       "\n",
       "    .dataframe thead th {\n",
       "        text-align: right;\n",
       "    }\n",
       "</style>\n",
       "<table border=\"1\" class=\"dataframe\">\n",
       "  <thead>\n",
       "    <tr style=\"text-align: right;\">\n",
       "      <th></th>\n",
       "      <th>0</th>\n",
       "      <th>1</th>\n",
       "      <th>2</th>\n",
       "      <th>3</th>\n",
       "      <th>4</th>\n",
       "    </tr>\n",
       "  </thead>\n",
       "  <tbody>\n",
       "    <tr>\n",
       "      <th>0</th>\n",
       "      <td>3.62160</td>\n",
       "      <td>8.6661</td>\n",
       "      <td>-2.80730</td>\n",
       "      <td>-0.44699</td>\n",
       "      <td>0</td>\n",
       "    </tr>\n",
       "    <tr>\n",
       "      <th>1</th>\n",
       "      <td>4.54590</td>\n",
       "      <td>8.1674</td>\n",
       "      <td>-2.45860</td>\n",
       "      <td>-1.46210</td>\n",
       "      <td>0</td>\n",
       "    </tr>\n",
       "    <tr>\n",
       "      <th>2</th>\n",
       "      <td>3.86600</td>\n",
       "      <td>-2.6383</td>\n",
       "      <td>1.92420</td>\n",
       "      <td>0.10645</td>\n",
       "      <td>0</td>\n",
       "    </tr>\n",
       "    <tr>\n",
       "      <th>3</th>\n",
       "      <td>3.45660</td>\n",
       "      <td>9.5228</td>\n",
       "      <td>-4.01120</td>\n",
       "      <td>-3.59440</td>\n",
       "      <td>0</td>\n",
       "    </tr>\n",
       "    <tr>\n",
       "      <th>4</th>\n",
       "      <td>0.32924</td>\n",
       "      <td>-4.4552</td>\n",
       "      <td>4.57180</td>\n",
       "      <td>-0.98880</td>\n",
       "      <td>0</td>\n",
       "    </tr>\n",
       "    <tr>\n",
       "      <th>5</th>\n",
       "      <td>4.36840</td>\n",
       "      <td>9.6718</td>\n",
       "      <td>-3.96060</td>\n",
       "      <td>-3.16250</td>\n",
       "      <td>0</td>\n",
       "    </tr>\n",
       "    <tr>\n",
       "      <th>6</th>\n",
       "      <td>3.59120</td>\n",
       "      <td>3.0129</td>\n",
       "      <td>0.72888</td>\n",
       "      <td>0.56421</td>\n",
       "      <td>0</td>\n",
       "    </tr>\n",
       "    <tr>\n",
       "      <th>7</th>\n",
       "      <td>2.09220</td>\n",
       "      <td>-6.8100</td>\n",
       "      <td>8.46360</td>\n",
       "      <td>-0.60216</td>\n",
       "      <td>0</td>\n",
       "    </tr>\n",
       "    <tr>\n",
       "      <th>8</th>\n",
       "      <td>3.20320</td>\n",
       "      <td>5.7588</td>\n",
       "      <td>-0.75345</td>\n",
       "      <td>-0.61251</td>\n",
       "      <td>0</td>\n",
       "    </tr>\n",
       "    <tr>\n",
       "      <th>9</th>\n",
       "      <td>1.53560</td>\n",
       "      <td>9.1772</td>\n",
       "      <td>-2.27180</td>\n",
       "      <td>-0.73535</td>\n",
       "      <td>0</td>\n",
       "    </tr>\n",
       "  </tbody>\n",
       "</table>\n",
       "</div>"
      ],
      "text/plain": [
       "         0       1        2        3  4\n",
       "0  3.62160  8.6661 -2.80730 -0.44699  0\n",
       "1  4.54590  8.1674 -2.45860 -1.46210  0\n",
       "2  3.86600 -2.6383  1.92420  0.10645  0\n",
       "3  3.45660  9.5228 -4.01120 -3.59440  0\n",
       "4  0.32924 -4.4552  4.57180 -0.98880  0\n",
       "5  4.36840  9.6718 -3.96060 -3.16250  0\n",
       "6  3.59120  3.0129  0.72888  0.56421  0\n",
       "7  2.09220 -6.8100  8.46360 -0.60216  0\n",
       "8  3.20320  5.7588 -0.75345 -0.61251  0\n",
       "9  1.53560  9.1772 -2.27180 -0.73535  0"
      ]
     },
     "execution_count": 5,
     "metadata": {},
     "output_type": "execute_result"
    }
   ],
   "source": [
    "banknote_dataset.head(10)"
   ]
  },
  {
   "cell_type": "markdown",
   "metadata": {
    "id": "ZS_uNa-Guy7I"
   },
   "source": [
    "## Exercícios:\n",
    "\n",
    "1. Crie classificadores de [Naive Bayes](https://scikit-learn.org/stable/modules/naive_bayes.html) e de regressão logística;\n",
    "1. Realize validações cruzadas em ambos os modelos para selecionar os melhores modelos treinados;\n",
    "    1. Criar a matriz de confusão para mostrar as diferenças entre parâmetros\n",
    "\n",
    "1. Salvar o melhor modelo usando a biblioteca Pickle Python (consulte [este link](https://machinelearningmastery.com/save-load-machine-learning-models-python-scikit-learn/) para referência)\n",
    "\n",
    "\n"
   ]
  },
  {
   "cell_type": "code",
   "execution_count": 7,
   "metadata": {
    "colab": {
     "base_uri": "https://localhost:8080/"
    },
    "executionInfo": {
     "elapsed": 202,
     "status": "ok",
     "timestamp": 1750940411922,
     "user": {
      "displayName": "Laerte Nascimento",
      "userId": "15540816423355594714"
     },
     "user_tz": 180
    },
    "id": "n3VWgd2F1bsD",
    "outputId": "126a69df-9e81-48eb-855d-d78de8d6c36c"
   },
   "outputs": [
    {
     "name": "stdout",
     "output_type": "stream",
     "text": [
      "Naive Bayes Cross-Validation Results:\n",
      "Fit times: 0.002 (+/- 0.001)\n",
      "Score times: 0.005 (+/- 0.003)\n",
      "Test Accuracy: 0.840 (+/- 0.037)\n",
      "Test Precision: 0.840 (+/- 0.035)\n",
      "Test Recall: 0.835 (+/- 0.041)\n",
      "Test F1-score: 0.837 (+/- 0.039)\n",
      "------------------------------\n",
      "Logistic Regression Cross-Validation Results:\n",
      "Fit times: 0.005 (+/- 0.002)\n",
      "Score times: 0.005 (+/- 0.002)\n",
      "Test Accuracy: 0.990 (+/- 0.012)\n",
      "Test Precision: 0.989 (+/- 0.012)\n",
      "Test Recall: 0.990 (+/- 0.011)\n",
      "Test F1-score: 0.990 (+/- 0.012)\n",
      "------------------------------\n",
      "Best model is Logistic Regression based on average test accuracy.\n",
      "\n",
      "Confusion Matrix for Naive Bayes (first fold):\n",
      "[[136  17]\n",
      " [ 23  99]]\n",
      "\n",
      "Confusion Matrix for Logistic Regression (first fold):\n",
      "[[149   4]\n",
      " [  0 122]]\n",
      "\n",
      "Best model saved to best_model.pkl\n"
     ]
    }
   ],
   "source": [
    "from sklearn.naive_bayes import GaussianNB\n",
    "from sklearn.metrics import confusion_matrix\n",
    "import pickle\n",
    "import numpy as np \n",
    "from sklearn.model_selection import StratifiedKFold, cross_validate, train_test_split \n",
    "from sklearn.linear_model import LogisticRegression \n",
    "\n",
    "X = banknote_dataset.iloc[:, :-1]\n",
    "y = banknote_dataset.iloc[:, -1]\n",
    "\n",
    "# 1. Crie classificadores de Naive Bayes e de regressão logística\n",
    "\n",
    "nb_model = GaussianNB()\n",
    "\n",
    "model = LogisticRegression(random_state=0) \n",
    "\n",
    "# 2. Realize validações cruzadas em ambos os modelos para selecionar os melhores modelos treinados;\n",
    "\n",
    "cv_strategy = StratifiedKFold(n_splits=5, shuffle=True, random_state=42)\n",
    "\n",
    "\n",
    "nb_scores = cross_validate(nb_model, X, y, cv=cv_strategy, scoring=['accuracy', 'precision_macro', 'recall_macro', 'f1_macro'], return_estimator=True)\n",
    "\n",
    "print(\"Naive Bayes Cross-Validation Results:\")\n",
    "print(f\"Fit times: {nb_scores['fit_time'].mean():.3f} (+/- {nb_scores['fit_time'].std()*2:.3f})\")\n",
    "print(f\"Score times: {nb_scores['score_time'].mean():.3f} (+/- {nb_scores['score_time'].std()*2:.3f})\")\n",
    "print(f\"Test Accuracy: {nb_scores['test_accuracy'].mean():.3f} (+/- {nb_scores['test_accuracy'].std()*2:.3f})\")\n",
    "print(f\"Test Precision: {nb_scores['test_precision_macro'].mean():.3f} (+/- {nb_scores['test_precision_macro'].std()*2:.3f})\")\n",
    "print(f\"Test Recall: {nb_scores['test_recall_macro'].mean():.3f} (+/- {nb_scores['test_recall_macro'].std()*2:.3f})\")\n",
    "print(f\"Test F1-score: {nb_scores['test_f1_macro'].mean():.3f} (+/- {nb_scores['test_f1_macro'].std()*2:.3f})\")\n",
    "print(\"-\" * 30)\n",
    "\n",
    "\n",
    "lr_scores = cross_validate(model, X, y, cv=cv_strategy, scoring=['accuracy', 'precision_macro', 'recall_macro', 'f1_macro'], return_estimator=True)\n",
    "\n",
    "print(\"Logistic Regression Cross-Validation Results:\")\n",
    "print(f\"Fit times: {lr_scores['fit_time'].mean():.3f} (+/- {lr_scores['fit_time'].std()*2:.3f})\")\n",
    "print(f\"Score times: {lr_scores['score_time'].mean():.3f} (+/- {lr_scores['score_time'].std()*2:.3f})\")\n",
    "print(f\"Test Accuracy: {lr_scores['test_accuracy'].mean():.3f} (+/- {lr_scores['test_accuracy'].std()*2:.3f})\")\n",
    "print(f\"Test Precision: {lr_scores['test_precision_macro'].mean():.3f} (+/- {lr_scores['test_precision_macro'].std()*2:.3f})\")\n",
    "print(f\"Test Recall: {lr_scores['test_recall_macro'].mean():.3f} (+/- {lr_scores['test_recall_macro'].std()*2:.3f})\")\n",
    "print(f\"Test F1-score: {lr_scores['test_f1_macro'].mean():.3f} (+/- {lr_scores['test_f1_macro'].std()*2:.3f})\")\n",
    "print(\"-\" * 30)\n",
    "\n",
    "if nb_scores['test_accuracy'].mean() > lr_scores['test_accuracy'].mean():\n",
    "    best_model = nb_scores['estimator'][np.argmax(nb_scores['test_accuracy'])]\n",
    "    print(\"Best model is Naive Bayes based on average test accuracy.\")\n",
    "else:\n",
    "    best_model = lr_scores['estimator'][np.argmax(lr_scores['test_accuracy'])]\n",
    "    print(\"Best model is Logistic Regression based on average test accuracy.\")\n",
    "\n",
    "\n",
    "\n",
    "X_train_fold, X_test_fold, y_train_fold, y_test_fold = train_test_split(X, y, test_size=1/5, random_state=42, stratify=y) \n",
    "\n",
    "nb_predictions_fold = nb_scores['estimator'][0].predict(X_test_fold)\n",
    "nb_cm = confusion_matrix(y_test_fold, nb_predictions_fold)\n",
    "print(\"\\nConfusion Matrix for Naive Bayes (first fold):\")\n",
    "print(nb_cm)\n",
    "\n",
    "lr_predictions_fold = lr_scores['estimator'][0].predict(X_test_fold)\n",
    "lr_cm = confusion_matrix(y_test_fold, lr_predictions_fold)\n",
    "print(\"\\nConfusion Matrix for Logistic Regression (first fold):\")\n",
    "print(lr_cm)\n",
    "\n",
    "\n",
    "# 3. Salvar o melhor modelo usando a biblioteca Pickle Python\n",
    "filename = 'best_model.pkl'\n",
    "pickle.dump(best_model, open(filename, 'wb'))\n",
    "\n",
    "print(f\"\\nBest model saved to {filename}\")\n"
   ]
  },
  {
   "cell_type": "code",
   "execution_count": 8,
   "metadata": {
    "executionInfo": {
     "elapsed": 10,
     "status": "ok",
     "timestamp": 1750940683727,
     "user": {
      "displayName": "Laerte Nascimento",
      "userId": "15540816423355594714"
     },
     "user_tz": 180
    },
    "id": "_J1d6EAUMgY6"
   },
   "outputs": [],
   "source": [
    "import matplotlib.pyplot as plt\n",
    "from sklearn.metrics import ConfusionMatrixDisplay"
   ]
  },
  {
   "cell_type": "code",
   "execution_count": 9,
   "metadata": {
    "colab": {
     "base_uri": "https://localhost:8080/",
     "height": 507
    },
    "executionInfo": {
     "elapsed": 640,
     "status": "ok",
     "timestamp": 1750940685204,
     "user": {
      "displayName": "Laerte Nascimento",
      "userId": "15540816423355594714"
     },
     "user_tz": 180
    },
    "id": "-wC-JxXoMj3N",
    "outputId": "f71a58b8-07ab-4a36-c2fb-d794393c71ee"
   },
   "outputs": [
    {
     "name": "stdout",
     "output_type": "stream",
     "text": [
      "\n",
      "Confusion Matrix for Naive Bayes (first fold):\n"
     ]
    },
    {
     "data": {
      "image/png": "[encoded data removed]",
      "text/plain": [
       "<Figure size 640x480 with 2 Axes>"
      ]
     },
     "metadata": {},
     "output_type": "display_data"
    }
   ],
   "source": [
    "print(\"\\nConfusion Matrix for Naive Bayes (first fold):\")\n",
    "disp_nb = ConfusionMatrixDisplay(confusion_matrix=nb_cm)\n",
    "disp_nb.plot(cmap=plt.cm.Blues)\n",
    "plt.title(\"Naive Bayes - Confusion Matrix (1st Fold)\")\n",
    "plt.show()\n"
   ]
  },
  {
   "cell_type": "code",
   "execution_count": 10,
   "metadata": {
    "colab": {
     "base_uri": "https://localhost:8080/",
     "height": 507
    },
    "executionInfo": {
     "elapsed": 393,
     "status": "ok",
     "timestamp": 1750940689472,
     "user": {
      "displayName": "Laerte Nascimento",
      "userId": "15540816423355594714"
     },
     "user_tz": 180
    },
    "id": "IJD5lcOhMmpY",
    "outputId": "c03421e5-d13a-4fba-9085-7a8c6bbf8ddd"
   },
   "outputs": [
    {
     "name": "stdout",
     "output_type": "stream",
     "text": [
      "\n",
      "Confusion Matrix for Logistic Regression (first fold):\n"
     ]
    },
    {
     "data": {
      "image/png": "[encoded data removed]",
      "text/plain": [
       "<Figure size 640x480 with 2 Axes>"
      ]
     },
     "metadata": {},
     "output_type": "display_data"
    }
   ],
   "source": [
    "print(\"\\nConfusion Matrix for Logistic Regression (first fold):\")\n",
    "disp_lr = ConfusionMatrixDisplay(confusion_matrix=lr_cm)\n",
    "disp_lr.plot(cmap=plt.cm.Greens)\n",
    "plt.title(\"Logistic Regression - Confusion Matrix (1st Fold)\")\n",
    "plt.show()\n"
   ]
  }
 ],
 "metadata": {
  "colab": {
   "provenance": []
  },
  "kernelspec": {
   "display_name": "Python 3",
   "language": "python",
   "name": "python3"
  },
  "language_info": {
   "codemirror_mode": {
    "name": "ipython",
    "version": 3
   },
   "file_extension": ".py",
   "mimetype": "text/x-python",
   "name": "python",
   "nbconvert_exporter": "python",
   "pygments_lexer": "ipython3",
   "version": "3.10.11"
  }
 },
 "nbformat": 4,
 "nbformat_minor": 0
}
