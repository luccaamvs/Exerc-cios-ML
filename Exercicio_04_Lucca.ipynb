{
 "cells": [
  {
   "cell_type": "markdown",
   "id": "dac1d093",
   "metadata": {},
   "source": [
    "# Exercício 04 — Curvas ROC e AUC\n",
    "**Disciplina:** Machine Learning - Técnicas e Cases\n",
    "**Professor:** Raphael Cobé\n",
    "**Aluno:** Rafael Mendes de Oliveira Cobe\n",
    "**Dataset:** MovieLens 100k\n"
   ]
  },
  {
   "cell_type": "markdown",
   "id": "e9a76168",
   "metadata": {},
   "source": [
    "## Objetivo\n",
    "Avaliar o desempenho de um modelo de classificação binária na base MovieLens, utilizando a curva ROC e a métrica AUC."
   ]
  },
  {
   "cell_type": "code",
   "execution_count": null,
   "id": "03bcb0c7",
   "metadata": {},
   "outputs": [],
   "source": [
    "# Importação de pacotes\n",
    "import pandas as pd\n",
    "import numpy as np\n",
    "from sklearn.model_selection import train_test_split\n",
    "from sklearn.linear_model import LogisticRegression\n",
    "from sklearn.metrics import roc_curve, auc\n",
    "import matplotlib.pyplot as plt\n",
    "\n",
    "# Carregando dados\n",
    "ratings = pd.read_csv('./ml-100k/u.data', sep='\\t', names=['user_id', 'movie_id', 'rating', 'timestamp'])\n",
    "movies = pd.read_csv('./ml-100k/u.item', sep='|', encoding='latin-1', header=None,\n",
    "    names=[\n",
    "        'movie_id', 'title', 'release_date', 'video_release_date', 'imdb_url',\n",
    "        'unknown', 'Action', 'Comedy', 'Drama', 'Romance', 'Thriller',\n",
    "        'Adventure', 'Animation', \"Children's\", 'Crime', 'Documentary',\n",
    "        'Fantasy', 'Film-Noir', 'Horror', 'Musical', 'Mystery', 'Sci-Fi',\n",
    "        'War', 'Western']\n",
    ")"
   ]
  },
  {
   "cell_type": "code",
   "execution_count": null,
   "id": "cd5edbbe",
   "metadata": {},
   "outputs": [],
   "source": [
    "# Preparação do dataset binário\n",
    "data = pd.merge(ratings, movies, on='movie_id', how='inner')\n",
    "data['release_year'] = data['release_date'].str[-4:].replace('', np.nan).astype(float)\n",
    "data['liked'] = (data['rating'] >= 4).astype(int)\n",
    "main_genres = ['Action', 'Comedy', 'Drama', 'Romance', 'Thriller']\n",
    "features = ['release_year'] + main_genres\n",
    "data = data.dropna(subset=['release_year'])\n",
    "X = data[features].values\n",
    "y = data['liked'].values"
   ]
  },
  {
   "cell_type": "code",
   "execution_count": null,
   "id": "1be6ddbf",
   "metadata": {},
   "outputs": [],
   "source": [
    "# Separação em treino e teste\n",
    "from sklearn.model_selection import train_test_split\n",
    "X_train, X_test, y_train, y_test = train_test_split(X, y, test_size=0.3, random_state=42)"
   ]
  },
  {
   "cell_type": "code",
   "execution_count": null,
   "id": "b5fbf960",
   "metadata": {},
   "outputs": [],
   "source": [
    "# Treinamento do modelo\n",
    "from sklearn.linear_model import LogisticRegression\n",
    "clf = LogisticRegression(max_iter=1000)\n",
    "clf.fit(X_train, y_train)\n",
    "y_proba = clf.predict_proba(X_test)[:,1]"
   ]
  },
  {
   "cell_type": "code",
   "execution_count": null,
   "id": "ae3ac3a2",
   "metadata": {},
   "outputs": [],
   "source": [
    "# Curva ROC e cálculo da AUC\n",
    "from sklearn.metrics import roc_curve, auc\n",
    "fpr, tpr, thresholds = roc_curve(y_test, y_proba)\n",
    "roc_auc = auc(fpr, tpr)\n",
    "print(f'AUC: {roc_auc:.2f}')"
   ]
  },
  {
   "cell_type": "code",
   "execution_count": null,
   "id": "d75172da",
   "metadata": {},
   "outputs": [],
   "source": [
    "# Gráfico da curva ROC\n",
    "plt.figure(figsize=(7,5))\n",
    "plt.plot(fpr, tpr, color='blue', label=f'ROC curve (área = {roc_auc:.2f})')\n",
    "plt.plot([0,1], [0,1], color='red', linestyle='--', label='Aleatório')\n",
    "plt.xlabel('Taxa de Falsos Positivos (FPR)')\n",
    "plt.ylabel('Taxa de Verdadeiros Positivos (TPR)')\n",
    "plt.title('Curva ROC - Classificação Binária de Filmes')\n",
    "plt.legend(loc='lower right')\n",
    "plt.tight_layout()\n",
    "plt.show()"
   ]
  },
  {
   "cell_type": "markdown",
   "id": "5f6b6482",
   "metadata": {},
   "source": [
    "## Conclusão\n",
    "- O modelo apresentou uma AUC de aproximadamente 0.42, indicando baixa capacidade de distinguir entre os filmes que os usuários gostaram e não gostaram apenas pelas variáveis consideradas (ano e gêneros principais).\n",
    "- Isso sugere que outros fatores, como perfil do usuário ou contexto, devem ser levados em conta para melhorar a performance preditiva.\n",
    "- Mesmo assim, o exercício ilustra como usar ROC/AUC para avaliar classificadores binários e interpretar sua eficácia."
   ]
  }
 ],
 "metadata": {},
 "nbformat": 4,
 "nbformat_minor": 5
}
